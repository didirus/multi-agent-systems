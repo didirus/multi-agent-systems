{
 "cells": [
  {
   "cell_type": "code",
   "execution_count": 3,
   "metadata": {
    "collapsed": false
   },
   "outputs": [],
   "source": [
    "from dijkstar import Graph, find_path\n",
    "graph = Graph()"
   ]
  },
  {
   "cell_type": "code",
   "execution_count": 11,
   "metadata": {
    "collapsed": true
   },
   "outputs": [],
   "source": [
    "graph.add_edge(0, 15, {'cost': 8.54})\n",
    "graph.add_edge(0, 14, {'cost': 8.94})\n",
    "graph.add_edge(0, 22, {'cost': 4.47})\n",
    "graph.add_edge(1, 19, {'cost': 4.24})\n",
    "graph.add_edge(1, 11, {'cost': 10.63})\n",
    "graph.add_edge(3, 16, {'cost': 16.76})\n",
    "graph.add_edge(16, 11, {'cost': 14.14})\n",
    "graph.add_edge(19, 23, {'cost': 3.16})\n",
    "graph.add_edge(23, 14, {'cost': 4.12})\n",
    "graph.add_edge(15, 18, {'cost': 3.16})\n",
    "graph.add_edge(15, 12, {'cost': 5})\n",
    "graph.add_edge(12, 20, {'cost': 8.54})\n",
    "graph.add_edge(20, 9, {'cost': 2.83})\n",
    "graph.add_edge(9, 8, {'cost': 6.08})\n",
    "graph.add_edge(8, 6, {'cost': 6.08})\n",
    "graph.add_edge(8, 2, {'cost': 7.81})\n",
    "graph.add_edge(9, 3, {'cost': 4.24})\n",
    "graph.add_edge(3, 4, {'cost': 3.16})\n",
    "graph.add_edge(4, 5, {'cost': 10})\n",
    "graph.add_edge(5, 17, {'cost': 5.10})\n",
    "graph.add_edge(17, 7, {'cost': 4.12})\n",
    "graph.add_edge(7, 13, {'cost': 6.32})\n",
    "graph.add_edge(13, 23, {'cost': 7.28})\n",
    "graph.add_edge(16, 5, {'cost': 9.43})\n",
    "graph.add_edge(11, 17, {'cost': 6.08})\n",
    "graph.add_edge(13, 22, {'cost': 8})\n",
    "graph.add_edge(22, 12, {'cost': 6.32})\n",
    "graph.add_edge(1, 7, {'cost': 5})\n",
    "graph.add_edge(13, 10, {'cost': 3})\n",
    "graph.add_edge(10, 17, {'cost': 7.07})\n",
    "graph.add_edge(10, 21, {'cost': 7.07})\n",
    "graph.add_edge(21, 22, {'cost': 2.24})\n",
    "graph.add_edge(21, 20, {'cost': 3.16})\n",
    "graph.add_edge(3, 20, {'cost': 5.10})\n",
    "graph.add_edge(4, 10, {'cost': 5.66})\n",
    "graph.add_edge(10, 5, {'cost': 7.21})\n",
    "graph.add_edge(23, 1, {'cost': 4})\n",
    "\n",
    "graph.add_edge(15, 0, {'cost': 8.54})\n",
    "graph.add_edge(14, 0, {'cost': 8.94})\n",
    "graph.add_edge(22, 0, {'cost': 4.47})\n",
    "graph.add_edge(19, 1, {'cost': 4.24})\n",
    "graph.add_edge(11, 1, {'cost': 10.63})\n",
    "graph.add_edge(16, 3, {'cost': 16.76})\n",
    "graph.add_edge(11, 16, {'cost': 14.14})\n",
    "graph.add_edge(23, 19, {'cost': 3.16})\n",
    "graph.add_edge(14, 23, {'cost': 4.12})\n",
    "graph.add_edge(18, 15, {'cost': 3.16})\n",
    "graph.add_edge(12, 15, {'cost': 5})\n",
    "graph.add_edge(20, 12, {'cost': 8.54})\n",
    "graph.add_edge(9, 20, {'cost': 2.83})\n",
    "graph.add_edge(9, 8, {'cost': 6.08})\n",
    "graph.add_edge(6, 8, {'cost': 6.08})\n",
    "graph.add_edge(2, 8, {'cost': 7.81})\n",
    "graph.add_edge(3, 9, {'cost': 4.24})\n",
    "graph.add_edge(4, 3, {'cost': 3.16})\n",
    "graph.add_edge(5, 4, {'cost': 10})\n",
    "graph.add_edge(17, 5, {'cost': 5.10})\n",
    "graph.add_edge(7, 17, {'cost': 4.12})\n",
    "graph.add_edge(13, 7, {'cost': 6.32})\n",
    "graph.add_edge(23, 13, {'cost': 7.28})\n",
    "graph.add_edge(5, 16, {'cost': 9.43})\n",
    "graph.add_edge(17, 11, {'cost': 6.08})\n",
    "graph.add_edge(22, 13, {'cost': 8})\n",
    "graph.add_edge(12, 22, {'cost': 6.32})\n",
    "graph.add_edge(7, 1, {'cost': 5})\n",
    "graph.add_edge(10, 13, {'cost': 3})\n",
    "graph.add_edge(17, 10, {'cost': 7.07})\n",
    "graph.add_edge(21, 10, {'cost': 7.07})\n",
    "graph.add_edge(22, 21, {'cost': 2.24})\n",
    "graph.add_edge(20, 21, {'cost': 3.16})\n",
    "graph.add_edge(20, 3, {'cost': 5.10})\n",
    "graph.add_edge(10, 4, {'cost': 5.66})\n",
    "graph.add_edge(5, 10, {'cost': 7.21})\n",
    "graph.add_edge(1, 23, {'cost': 4})"
   ]
  },
  {
   "cell_type": "code",
   "execution_count": 12,
   "metadata": {
    "collapsed": true
   },
   "outputs": [],
   "source": [
    "cost_func = lambda u, v, e, prev_e: e['cost']"
   ]
  },
  {
   "cell_type": "code",
   "execution_count": 16,
   "metadata": {
    "collapsed": false
   },
   "outputs": [
    {
     "data": {
      "text/plain": [
       "([1], [], [], 0)"
      ]
     },
     "execution_count": 16,
     "metadata": {},
     "output_type": "execute_result"
    }
   ],
   "source": [
    "find_path(graph, 1, 1, cost_func=cost_func)"
   ]
  },
  {
   "cell_type": "code",
   "execution_count": null,
   "metadata": {
    "collapsed": true
   },
   "outputs": [],
   "source": [
    "for i in range(23):\n",
    "    for j in range(23):\n",
    "        \n",
    "        find_path(graph, i, j, cost_func=cost_func)\n",
    "        "
   ]
  }
 ],
 "metadata": {
  "kernelspec": {
   "display_name": "Python [py3k]",
   "language": "python",
   "name": "Python [py3k]"
  },
  "language_info": {
   "codemirror_mode": {
    "name": "ipython",
    "version": 3
   },
   "file_extension": ".py",
   "mimetype": "text/x-python",
   "name": "python",
   "nbconvert_exporter": "python",
   "pygments_lexer": "ipython3",
   "version": "3.5.2"
  }
 },
 "nbformat": 4,
 "nbformat_minor": 0
}
