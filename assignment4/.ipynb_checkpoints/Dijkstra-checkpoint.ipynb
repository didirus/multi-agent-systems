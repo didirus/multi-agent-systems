{
 "cells": [
  {
   "cell_type": "code",
   "execution_count": 2,
   "metadata": {
    "collapsed": false
   },
   "outputs": [],
   "source": [
    "from dijkstar import Graph, find_path\n",
    "graph = Graph()"
   ]
  },
  {
   "cell_type": "code",
   "execution_count": 3,
   "metadata": {
    "collapsed": false
   },
   "outputs": [],
   "source": [
    "graph.add_edge(0, 15, {'cost': 8.54})\n",
    "graph.add_edge(0, 14, {'cost': 8.94})\n",
    "graph.add_edge(0, 22, {'cost': 4.47})\n",
    "graph.add_edge(1, 19, {'cost': 4.24})\n",
    "graph.add_edge(1, 11, {'cost': 10.63})\n",
    "graph.add_edge(3, 16, {'cost': 16.76})\n",
    "graph.add_edge(16, 11, {'cost': 14.14})\n",
    "graph.add_edge(19, 23, {'cost': 3.16})\n",
    "graph.add_edge(23, 14, {'cost': 4.12})\n",
    "graph.add_edge(15, 18, {'cost': 3.16})\n",
    "graph.add_edge(15, 12, {'cost': 5})\n",
    "graph.add_edge(12, 20, {'cost': 8.54})\n",
    "graph.add_edge(20, 9, {'cost': 2.83})\n",
    "graph.add_edge(9, 8, {'cost': 6.08})\n",
    "graph.add_edge(8, 6, {'cost': 6.08})\n",
    "graph.add_edge(8, 2, {'cost': 7.81})\n",
    "graph.add_edge(9, 3, {'cost': 4.24})\n",
    "graph.add_edge(3, 4, {'cost': 3.16})\n",
    "graph.add_edge(4, 5, {'cost': 10})\n",
    "graph.add_edge(5, 17, {'cost': 5.10})\n",
    "graph.add_edge(17, 7, {'cost': 4.12})\n",
    "graph.add_edge(7, 13, {'cost': 6.32})\n",
    "graph.add_edge(13, 23, {'cost': 7.28})\n",
    "graph.add_edge(16, 5, {'cost': 9.43})\n",
    "graph.add_edge(11, 17, {'cost': 6.08})\n",
    "graph.add_edge(13, 22, {'cost': 8})\n",
    "graph.add_edge(22, 12, {'cost': 6.32})\n",
    "graph.add_edge(1, 7, {'cost': 5})\n",
    "graph.add_edge(13, 10, {'cost': 3})\n",
    "graph.add_edge(10, 17, {'cost': 7.07})\n",
    "graph.add_edge(10, 21, {'cost': 7.07})\n",
    "graph.add_edge(21, 22, {'cost': 2.24})\n",
    "graph.add_edge(21, 20, {'cost': 3.16})\n",
    "graph.add_edge(3, 20, {'cost': 5.10})\n",
    "graph.add_edge(4, 10, {'cost': 5.66})\n",
    "graph.add_edge(10, 5, {'cost': 7.21})\n",
    "graph.add_edge(23, 1, {'cost': 4})\n",
    "\n",
    "graph.add_edge(15, 0, {'cost': 8.54})\n",
    "graph.add_edge(14, 0, {'cost': 8.94})\n",
    "graph.add_edge(22, 0, {'cost': 4.47})\n",
    "graph.add_edge(19, 1, {'cost': 4.24})\n",
    "graph.add_edge(11, 1, {'cost': 10.63})\n",
    "graph.add_edge(16, 3, {'cost': 16.76})\n",
    "graph.add_edge(11, 16, {'cost': 14.14})\n",
    "graph.add_edge(23, 19, {'cost': 3.16})\n",
    "graph.add_edge(14, 23, {'cost': 4.12})\n",
    "graph.add_edge(18, 15, {'cost': 3.16})\n",
    "graph.add_edge(12, 15, {'cost': 5})\n",
    "graph.add_edge(20, 12, {'cost': 8.54})\n",
    "graph.add_edge(9, 20, {'cost': 2.83})\n",
    "graph.add_edge(9, 8, {'cost': 6.08})\n",
    "graph.add_edge(6, 8, {'cost': 6.08})\n",
    "graph.add_edge(2, 8, {'cost': 7.81})\n",
    "graph.add_edge(3, 9, {'cost': 4.24})\n",
    "graph.add_edge(4, 3, {'cost': 3.16})\n",
    "graph.add_edge(5, 4, {'cost': 10})\n",
    "graph.add_edge(17, 5, {'cost': 5.10})\n",
    "graph.add_edge(7, 17, {'cost': 4.12})\n",
    "graph.add_edge(13, 7, {'cost': 6.32})\n",
    "graph.add_edge(23, 13, {'cost': 7.28})\n",
    "graph.add_edge(5, 16, {'cost': 9.43})\n",
    "graph.add_edge(17, 11, {'cost': 6.08})\n",
    "graph.add_edge(22, 13, {'cost': 8})\n",
    "graph.add_edge(12, 22, {'cost': 6.32})\n",
    "graph.add_edge(7, 1, {'cost': 5})\n",
    "graph.add_edge(10, 13, {'cost': 3})\n",
    "graph.add_edge(17, 10, {'cost': 7.07})\n",
    "graph.add_edge(21, 10, {'cost': 7.07})\n",
    "graph.add_edge(22, 21, {'cost': 2.24})\n",
    "graph.add_edge(20, 21, {'cost': 3.16})\n",
    "graph.add_edge(20, 3, {'cost': 5.10})\n",
    "graph.add_edge(10, 4, {'cost': 5.66})\n",
    "graph.add_edge(5, 10, {'cost': 7.21})\n",
    "graph.add_edge(1, 23, {'cost': 4})"
   ]
  },
  {
   "cell_type": "code",
   "execution_count": 4,
   "metadata": {
    "collapsed": true
   },
   "outputs": [],
   "source": [
    "cost_func = lambda u, v, e, prev_e: e['cost']"
   ]
  },
  {
   "cell_type": "code",
   "execution_count": 5,
   "metadata": {
    "collapsed": false
   },
   "outputs": [
    {
     "data": {
      "text/plain": [
       "([1], [], [], 0)"
      ]
     },
     "execution_count": 5,
     "metadata": {},
     "output_type": "execute_result"
    }
   ],
   "source": [
    "find_path(graph, 1, 1, cost_func=cost_func)"
   ]
  },
  {
   "cell_type": "code",
   "execution_count": 7,
   "metadata": {
    "collapsed": false
   },
   "outputs": [
    {
     "name": "stdout",
     "output_type": "stream",
     "text": [
      "([0, 14, 23, 1], [{'cost': 8.94}, {'cost': 4.12}, {'cost': 4}], [8.94, 4.12, 4], 17.06)\n",
      "([0, 22, 21, 20, 9, 8, 2], [{'cost': 4.47}, {'cost': 2.24}, {'cost': 3.16}, {'cost': 2.83}, {'cost': 6.08}, {'cost': 7.81}], [4.47, 2.24, 3.16, 2.83, 6.08, 7.81], 26.59)\n",
      "([0, 22, 21, 20, 3], [{'cost': 4.47}, {'cost': 2.24}, {'cost': 3.16}, {'cost': 5.1}], [4.47, 2.24, 3.16, 5.1], 14.97)\n",
      "([0, 22, 21, 20, 3, 4], [{'cost': 4.47}, {'cost': 2.24}, {'cost': 3.16}, {'cost': 5.1}, {'cost': 3.16}], [4.47, 2.24, 3.16, 5.1, 3.16], 18.130000000000003)\n",
      "([0, 22, 21, 10, 5], [{'cost': 4.47}, {'cost': 2.24}, {'cost': 7.07}, {'cost': 7.21}], [4.47, 2.24, 7.07, 7.21], 20.990000000000002)\n",
      "([0, 22, 21, 20, 9, 8, 6], [{'cost': 4.47}, {'cost': 2.24}, {'cost': 3.16}, {'cost': 2.83}, {'cost': 6.08}, {'cost': 6.08}], [4.47, 2.24, 3.16, 2.83, 6.08, 6.08], 24.86)\n",
      "([0, 22, 13, 7], [{'cost': 4.47}, {'cost': 8}, {'cost': 6.32}], [4.47, 8, 6.32], 18.79)\n",
      "([0, 22, 21, 20, 9, 8], [{'cost': 4.47}, {'cost': 2.24}, {'cost': 3.16}, {'cost': 2.83}, {'cost': 6.08}], [4.47, 2.24, 3.16, 2.83, 6.08], 18.78)\n",
      "([0, 22, 21, 20, 9], [{'cost': 4.47}, {'cost': 2.24}, {'cost': 3.16}, {'cost': 2.83}], [4.47, 2.24, 3.16, 2.83], 12.700000000000001)\n",
      "([0, 22, 21, 10], [{'cost': 4.47}, {'cost': 2.24}, {'cost': 7.07}], [4.47, 2.24, 7.07], 13.780000000000001)\n",
      "([0, 22, 21, 10, 17, 11], [{'cost': 4.47}, {'cost': 2.24}, {'cost': 7.07}, {'cost': 7.07}, {'cost': 6.08}], [4.47, 2.24, 7.07, 7.07, 6.08], 26.93)\n",
      "([0, 22, 12], [{'cost': 4.47}, {'cost': 6.32}], [4.47, 6.32], 10.79)\n",
      "([0, 22, 13], [{'cost': 4.47}, {'cost': 8}], [4.47, 8], 12.469999999999999)\n",
      "([0, 14], [{'cost': 8.94}], [8.94], 8.94)\n",
      "([0, 15], [{'cost': 8.54}], [8.54], 8.54)\n",
      "([0, 22, 21, 10, 5, 16], [{'cost': 4.47}, {'cost': 2.24}, {'cost': 7.07}, {'cost': 7.21}, {'cost': 9.43}], [4.47, 2.24, 7.07, 7.21, 9.43], 30.42)\n",
      "([0, 22, 21, 10, 17], [{'cost': 4.47}, {'cost': 2.24}, {'cost': 7.07}, {'cost': 7.07}], [4.47, 2.24, 7.07, 7.07], 20.85)\n",
      "([0, 15, 18], [{'cost': 8.54}, {'cost': 3.16}], [8.54, 3.16], 11.7)\n",
      "([0, 14, 23, 19], [{'cost': 8.94}, {'cost': 4.12}, {'cost': 3.16}], [8.94, 4.12, 3.16], 16.22)\n",
      "([0, 22, 21, 20], [{'cost': 4.47}, {'cost': 2.24}, {'cost': 3.16}], [4.47, 2.24, 3.16], 9.870000000000001)\n",
      "([0, 22, 21], [{'cost': 4.47}, {'cost': 2.24}], [4.47, 2.24], 6.71)\n",
      "([0, 22], [{'cost': 4.47}], [4.47], 4.47)\n",
      "([1, 23, 14, 0], [{'cost': 4}, {'cost': 4.12}, {'cost': 8.94}], [4, 4.12, 8.94], 17.060000000000002)\n",
      "([1, 23, 13, 10, 4, 3, 9, 8, 2], [{'cost': 4}, {'cost': 7.28}, {'cost': 3}, {'cost': 5.66}, {'cost': 3.16}, {'cost': 4.24}, {'cost': 6.08}, {'cost': 7.81}], [4, 7.28, 3, 5.66, 3.16, 4.24, 6.08, 7.81], 41.230000000000004)\n",
      "([1, 23, 13, 10, 4, 3], [{'cost': 4}, {'cost': 7.28}, {'cost': 3}, {'cost': 5.66}, {'cost': 3.16}], [4, 7.28, 3, 5.66, 3.16], 23.1)\n",
      "([1, 23, 13, 10, 4], [{'cost': 4}, {'cost': 7.28}, {'cost': 3}, {'cost': 5.66}], [4, 7.28, 3, 5.66], 19.94)\n",
      "([1, 7, 17, 5], [{'cost': 5}, {'cost': 4.12}, {'cost': 5.1}], [5, 4.12, 5.1], 14.22)\n",
      "([1, 23, 13, 10, 4, 3, 9, 8, 6], [{'cost': 4}, {'cost': 7.28}, {'cost': 3}, {'cost': 5.66}, {'cost': 3.16}, {'cost': 4.24}, {'cost': 6.08}, {'cost': 6.08}], [4, 7.28, 3, 5.66, 3.16, 4.24, 6.08, 6.08], 39.5)\n",
      "([1, 7], [{'cost': 5}], [5], 5)\n",
      "([1, 23, 13, 10, 4, 3, 9, 8], [{'cost': 4}, {'cost': 7.28}, {'cost': 3}, {'cost': 5.66}, {'cost': 3.16}, {'cost': 4.24}, {'cost': 6.08}], [4, 7.28, 3, 5.66, 3.16, 4.24, 6.08], 33.42)\n",
      "([1, 23, 13, 10, 4, 3, 9], [{'cost': 4}, {'cost': 7.28}, {'cost': 3}, {'cost': 5.66}, {'cost': 3.16}, {'cost': 4.24}], [4, 7.28, 3, 5.66, 3.16, 4.24], 27.340000000000003)\n",
      "([1, 23, 13, 10], [{'cost': 4}, {'cost': 7.28}, {'cost': 3}], [4, 7.28, 3], 14.280000000000001)\n",
      "([1, 11], [{'cost': 10.63}], [10.63], 10.63)\n",
      "([1, 23, 13, 22, 12], [{'cost': 4}, {'cost': 7.28}, {'cost': 8}, {'cost': 6.32}], [4, 7.28, 8, 6.32], 25.6)\n",
      "([1, 23, 13], [{'cost': 4}, {'cost': 7.28}], [4, 7.28], 11.280000000000001)\n",
      "([1, 23, 14], [{'cost': 4}, {'cost': 4.12}], [4, 4.12], 8.120000000000001)\n",
      "([1, 23, 14, 0, 15], [{'cost': 4}, {'cost': 4.12}, {'cost': 8.94}, {'cost': 8.54}], [4, 4.12, 8.94, 8.54], 25.6)\n",
      "([1, 7, 17, 5, 16], [{'cost': 5}, {'cost': 4.12}, {'cost': 5.1}, {'cost': 9.43}], [5, 4.12, 5.1, 9.43], 23.65)\n",
      "([1, 7, 17], [{'cost': 5}, {'cost': 4.12}], [5, 4.12], 9.120000000000001)\n",
      "([1, 23, 14, 0, 15, 18], [{'cost': 4}, {'cost': 4.12}, {'cost': 8.94}, {'cost': 8.54}, {'cost': 3.16}], [4, 4.12, 8.94, 8.54, 3.16], 28.76)\n",
      "([1, 19], [{'cost': 4.24}], [4.24], 4.24)\n",
      "([1, 23, 13, 10, 21, 20], [{'cost': 4}, {'cost': 7.28}, {'cost': 3}, {'cost': 7.07}, {'cost': 3.16}], [4, 7.28, 3, 7.07, 3.16], 24.51)\n",
      "([1, 23, 13, 10, 21], [{'cost': 4}, {'cost': 7.28}, {'cost': 3}, {'cost': 7.07}], [4, 7.28, 3, 7.07], 21.35)\n",
      "([1, 23, 13, 22], [{'cost': 4}, {'cost': 7.28}, {'cost': 8}], [4, 7.28, 8], 19.28)\n"
     ]
    },
    {
     "ename": "NoPathError",
     "evalue": "Could not find a path from 2 to 0",
     "output_type": "error",
     "traceback": [
      "\u001b[0;31m---------------------------------------------------------------------------\u001b[0m",
      "\u001b[0;31mNoPathError\u001b[0m                               Traceback (most recent call last)",
      "\u001b[0;32m<ipython-input-7-745e5fd26dc9>\u001b[0m in \u001b[0;36m<module>\u001b[0;34m()\u001b[0m\n\u001b[1;32m      2\u001b[0m     \u001b[0;32mfor\u001b[0m \u001b[0mj\u001b[0m \u001b[0;32min\u001b[0m \u001b[0mrange\u001b[0m\u001b[0;34m(\u001b[0m\u001b[0;36m23\u001b[0m\u001b[0;34m)\u001b[0m\u001b[0;34m:\u001b[0m\u001b[0;34m\u001b[0m\u001b[0m\n\u001b[1;32m      3\u001b[0m         \u001b[0;32mif\u001b[0m \u001b[0mi\u001b[0m \u001b[0;34m!=\u001b[0m \u001b[0mj\u001b[0m\u001b[0;34m:\u001b[0m\u001b[0;34m\u001b[0m\u001b[0m\n\u001b[0;32m----> 4\u001b[0;31m             \u001b[0moutput\u001b[0m \u001b[0;34m=\u001b[0m \u001b[0mfind_path\u001b[0m\u001b[0;34m(\u001b[0m\u001b[0mgraph\u001b[0m\u001b[0;34m,\u001b[0m \u001b[0mi\u001b[0m\u001b[0;34m,\u001b[0m \u001b[0mj\u001b[0m\u001b[0;34m,\u001b[0m \u001b[0mcost_func\u001b[0m\u001b[0;34m=\u001b[0m\u001b[0mcost_func\u001b[0m\u001b[0;34m)\u001b[0m\u001b[0;34m\u001b[0m\u001b[0m\n\u001b[0m\u001b[1;32m      5\u001b[0m \u001b[0;34m\u001b[0m\u001b[0m\n\u001b[1;32m      6\u001b[0m             \u001b[0mprint\u001b[0m\u001b[0;34m(\u001b[0m\u001b[0moutput\u001b[0m\u001b[0;34m)\u001b[0m\u001b[0;34m\u001b[0m\u001b[0m\n",
      "\u001b[0;32m/Users/diederusticus/Documents/AI_UVA/mas/multi-agent-systems/assignment4/dijkstar/algorithm.py\u001b[0m in \u001b[0;36mfind_path\u001b[0;34m(graph, s, d, annex, cost_func, heuristic_func)\u001b[0m\n\u001b[1;32m     19\u001b[0m     \"\"\"\n\u001b[1;32m     20\u001b[0m     predecessors = single_source_shortest_paths(\n\u001b[0;32m---> 21\u001b[0;31m         graph, s, d, annex, cost_func, heuristic_func)\n\u001b[0m\u001b[1;32m     22\u001b[0m     \u001b[0;32mreturn\u001b[0m \u001b[0mextract_shortest_path_from_predecessor_list\u001b[0m\u001b[0;34m(\u001b[0m\u001b[0mpredecessors\u001b[0m\u001b[0;34m,\u001b[0m \u001b[0md\u001b[0m\u001b[0;34m)\u001b[0m\u001b[0;34m\u001b[0m\u001b[0m\n\u001b[1;32m     23\u001b[0m \u001b[0;34m\u001b[0m\u001b[0m\n",
      "\u001b[0;32m/Users/diederusticus/Documents/AI_UVA/mas/multi-agent-systems/assignment4/dijkstar/algorithm.py\u001b[0m in \u001b[0;36msingle_source_shortest_paths\u001b[0;34m(graph, s, d, annex, cost_func, heuristic_func)\u001b[0m\n\u001b[1;32m    151\u001b[0m \u001b[0;34m\u001b[0m\u001b[0m\n\u001b[1;32m    152\u001b[0m     \u001b[0;32mif\u001b[0m \u001b[0md\u001b[0m \u001b[0;32mis\u001b[0m \u001b[0;32mnot\u001b[0m \u001b[0;32mNone\u001b[0m \u001b[0;32mand\u001b[0m \u001b[0md\u001b[0m \u001b[0;32mnot\u001b[0m \u001b[0;32min\u001b[0m \u001b[0mcosts\u001b[0m\u001b[0;34m:\u001b[0m\u001b[0;34m\u001b[0m\u001b[0m\n\u001b[0;32m--> 153\u001b[0;31m         \u001b[0;32mraise\u001b[0m \u001b[0mNoPathError\u001b[0m\u001b[0;34m(\u001b[0m\u001b[0;34m'Could not find a path from {0} to {1}'\u001b[0m\u001b[0;34m.\u001b[0m\u001b[0mformat\u001b[0m\u001b[0;34m(\u001b[0m\u001b[0ms\u001b[0m\u001b[0;34m,\u001b[0m \u001b[0md\u001b[0m\u001b[0;34m)\u001b[0m\u001b[0;34m)\u001b[0m\u001b[0;34m\u001b[0m\u001b[0m\n\u001b[0m\u001b[1;32m    154\u001b[0m \u001b[0;34m\u001b[0m\u001b[0m\n\u001b[1;32m    155\u001b[0m     \u001b[0;32mreturn\u001b[0m \u001b[0mpredecessors\u001b[0m\u001b[0;34m\u001b[0m\u001b[0m\n",
      "\u001b[0;31mNoPathError\u001b[0m: Could not find a path from 2 to 0"
     ]
    }
   ],
   "source": [
    "for i in range(23):\n",
    "    for j in range(23):\n",
    "        if i != j:\n",
    "            output = find_path(graph, i, j, cost_func=cost_func)\n",
    "        \n",
    "            route = output[0]\n",
    "            cost = output[-1]\n",
    "            \n",
    "            print('table:put dijkstra', [i, j], output)"
   ]
  },
  {
   "cell_type": "code",
   "execution_count": null,
   "metadata": {
    "collapsed": true
   },
   "outputs": [],
   "source": []
  }
 ],
 "metadata": {
  "kernelspec": {
   "display_name": "Python [py3k]",
   "language": "python",
   "name": "Python [py3k]"
  },
  "language_info": {
   "codemirror_mode": {
    "name": "ipython",
    "version": 3
   },
   "file_extension": ".py",
   "mimetype": "text/x-python",
   "name": "python",
   "nbconvert_exporter": "python",
   "pygments_lexer": "ipython3",
   "version": "3.5.2"
  }
 },
 "nbformat": 4,
 "nbformat_minor": 0
}
